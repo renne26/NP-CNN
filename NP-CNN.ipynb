{
 "cells": [
  {
   "cell_type": "code",
   "execution_count": 178,
   "metadata": {},
   "outputs": [],
   "source": [
    "import numpy as np\n",
    "import pandas as pd\n",
    "import matplotlib.pyplot as plt\n",
    "import tensorflow as tf\n",
    "import tensorflow_datasets as tfds"
   ]
  },
  {
   "cell_type": "markdown",
   "metadata": {},
   "source": [
    "# Importing the Dataset from TensorFlow #"
   ]
  },
  {
   "cell_type": "code",
   "execution_count": 179,
   "metadata": {},
   "outputs": [],
   "source": [
    "data_train = tfds.load('mnist', split='train', as_supervised=True)\n",
    "data_test = tfds.load('mnist', split='test', as_supervised=True)\n",
    "\n",
    "data_train = tfds.as_numpy(data_train.take(5000))\n",
    "data_test = tfds.as_numpy(data_test.take(1000))"
   ]
  },
  {
   "cell_type": "code",
   "execution_count": 180,
   "metadata": {},
   "outputs": [],
   "source": [
    "X_train = pd.DataFrame()\n",
    "y_train = pd.DataFrame()\n",
    "\n",
    "X_test = pd.DataFrame()\n",
    "y_test = pd.DataFrame()\n",
    "\n",
    "for image, label in data_train:\n",
    "    X_train = X_train.append(pd.DataFrame(image.flatten()).T, ignore_index=True)\n",
    "    y_train = y_train.append([label], ignore_index=True)\n",
    "\n",
    "for image, label in data_test:\n",
    "    X_test = X_test.append(pd.DataFrame(image.flatten()).T, ignore_index=True)\n",
    "    y_test = y_test.append([label], ignore_index=True)"
   ]
  },
  {
   "cell_type": "code",
   "execution_count": 181,
   "metadata": {},
   "outputs": [
    {
     "data": {
      "text/html": [
       "<div>\n",
       "<style scoped>\n",
       "    .dataframe tbody tr th:only-of-type {\n",
       "        vertical-align: middle;\n",
       "    }\n",
       "\n",
       "    .dataframe tbody tr th {\n",
       "        vertical-align: top;\n",
       "    }\n",
       "\n",
       "    .dataframe thead th {\n",
       "        text-align: right;\n",
       "    }\n",
       "</style>\n",
       "<table border=\"1\" class=\"dataframe\">\n",
       "  <thead>\n",
       "    <tr style=\"text-align: right;\">\n",
       "      <th></th>\n",
       "      <th>0</th>\n",
       "      <th>1</th>\n",
       "      <th>2</th>\n",
       "      <th>3</th>\n",
       "      <th>4</th>\n",
       "      <th>5</th>\n",
       "      <th>6</th>\n",
       "      <th>7</th>\n",
       "      <th>8</th>\n",
       "      <th>9</th>\n",
       "      <th>...</th>\n",
       "      <th>774</th>\n",
       "      <th>775</th>\n",
       "      <th>776</th>\n",
       "      <th>777</th>\n",
       "      <th>778</th>\n",
       "      <th>779</th>\n",
       "      <th>780</th>\n",
       "      <th>781</th>\n",
       "      <th>782</th>\n",
       "      <th>783</th>\n",
       "    </tr>\n",
       "  </thead>\n",
       "  <tbody>\n",
       "    <tr>\n",
       "      <th>0</th>\n",
       "      <td>0</td>\n",
       "      <td>0</td>\n",
       "      <td>0</td>\n",
       "      <td>0</td>\n",
       "      <td>0</td>\n",
       "      <td>0</td>\n",
       "      <td>0</td>\n",
       "      <td>0</td>\n",
       "      <td>0</td>\n",
       "      <td>0</td>\n",
       "      <td>...</td>\n",
       "      <td>0</td>\n",
       "      <td>0</td>\n",
       "      <td>0</td>\n",
       "      <td>0</td>\n",
       "      <td>0</td>\n",
       "      <td>0</td>\n",
       "      <td>0</td>\n",
       "      <td>0</td>\n",
       "      <td>0</td>\n",
       "      <td>0</td>\n",
       "    </tr>\n",
       "    <tr>\n",
       "      <th>1</th>\n",
       "      <td>0</td>\n",
       "      <td>0</td>\n",
       "      <td>0</td>\n",
       "      <td>0</td>\n",
       "      <td>0</td>\n",
       "      <td>0</td>\n",
       "      <td>0</td>\n",
       "      <td>0</td>\n",
       "      <td>0</td>\n",
       "      <td>0</td>\n",
       "      <td>...</td>\n",
       "      <td>0</td>\n",
       "      <td>0</td>\n",
       "      <td>0</td>\n",
       "      <td>0</td>\n",
       "      <td>0</td>\n",
       "      <td>0</td>\n",
       "      <td>0</td>\n",
       "      <td>0</td>\n",
       "      <td>0</td>\n",
       "      <td>0</td>\n",
       "    </tr>\n",
       "    <tr>\n",
       "      <th>2</th>\n",
       "      <td>0</td>\n",
       "      <td>0</td>\n",
       "      <td>0</td>\n",
       "      <td>0</td>\n",
       "      <td>0</td>\n",
       "      <td>0</td>\n",
       "      <td>0</td>\n",
       "      <td>0</td>\n",
       "      <td>0</td>\n",
       "      <td>0</td>\n",
       "      <td>...</td>\n",
       "      <td>0</td>\n",
       "      <td>0</td>\n",
       "      <td>0</td>\n",
       "      <td>0</td>\n",
       "      <td>0</td>\n",
       "      <td>0</td>\n",
       "      <td>0</td>\n",
       "      <td>0</td>\n",
       "      <td>0</td>\n",
       "      <td>0</td>\n",
       "    </tr>\n",
       "    <tr>\n",
       "      <th>3</th>\n",
       "      <td>0</td>\n",
       "      <td>0</td>\n",
       "      <td>0</td>\n",
       "      <td>0</td>\n",
       "      <td>0</td>\n",
       "      <td>0</td>\n",
       "      <td>0</td>\n",
       "      <td>0</td>\n",
       "      <td>0</td>\n",
       "      <td>0</td>\n",
       "      <td>...</td>\n",
       "      <td>0</td>\n",
       "      <td>0</td>\n",
       "      <td>0</td>\n",
       "      <td>0</td>\n",
       "      <td>0</td>\n",
       "      <td>0</td>\n",
       "      <td>0</td>\n",
       "      <td>0</td>\n",
       "      <td>0</td>\n",
       "      <td>0</td>\n",
       "    </tr>\n",
       "    <tr>\n",
       "      <th>4</th>\n",
       "      <td>0</td>\n",
       "      <td>0</td>\n",
       "      <td>0</td>\n",
       "      <td>0</td>\n",
       "      <td>0</td>\n",
       "      <td>0</td>\n",
       "      <td>0</td>\n",
       "      <td>0</td>\n",
       "      <td>0</td>\n",
       "      <td>0</td>\n",
       "      <td>...</td>\n",
       "      <td>0</td>\n",
       "      <td>0</td>\n",
       "      <td>0</td>\n",
       "      <td>0</td>\n",
       "      <td>0</td>\n",
       "      <td>0</td>\n",
       "      <td>0</td>\n",
       "      <td>0</td>\n",
       "      <td>0</td>\n",
       "      <td>0</td>\n",
       "    </tr>\n",
       "    <tr>\n",
       "      <th>...</th>\n",
       "      <td>...</td>\n",
       "      <td>...</td>\n",
       "      <td>...</td>\n",
       "      <td>...</td>\n",
       "      <td>...</td>\n",
       "      <td>...</td>\n",
       "      <td>...</td>\n",
       "      <td>...</td>\n",
       "      <td>...</td>\n",
       "      <td>...</td>\n",
       "      <td>...</td>\n",
       "      <td>...</td>\n",
       "      <td>...</td>\n",
       "      <td>...</td>\n",
       "      <td>...</td>\n",
       "      <td>...</td>\n",
       "      <td>...</td>\n",
       "      <td>...</td>\n",
       "      <td>...</td>\n",
       "      <td>...</td>\n",
       "      <td>...</td>\n",
       "    </tr>\n",
       "    <tr>\n",
       "      <th>4995</th>\n",
       "      <td>0</td>\n",
       "      <td>0</td>\n",
       "      <td>0</td>\n",
       "      <td>0</td>\n",
       "      <td>0</td>\n",
       "      <td>0</td>\n",
       "      <td>0</td>\n",
       "      <td>0</td>\n",
       "      <td>0</td>\n",
       "      <td>0</td>\n",
       "      <td>...</td>\n",
       "      <td>0</td>\n",
       "      <td>0</td>\n",
       "      <td>0</td>\n",
       "      <td>0</td>\n",
       "      <td>0</td>\n",
       "      <td>0</td>\n",
       "      <td>0</td>\n",
       "      <td>0</td>\n",
       "      <td>0</td>\n",
       "      <td>0</td>\n",
       "    </tr>\n",
       "    <tr>\n",
       "      <th>4996</th>\n",
       "      <td>0</td>\n",
       "      <td>0</td>\n",
       "      <td>0</td>\n",
       "      <td>0</td>\n",
       "      <td>0</td>\n",
       "      <td>0</td>\n",
       "      <td>0</td>\n",
       "      <td>0</td>\n",
       "      <td>0</td>\n",
       "      <td>0</td>\n",
       "      <td>...</td>\n",
       "      <td>0</td>\n",
       "      <td>0</td>\n",
       "      <td>0</td>\n",
       "      <td>0</td>\n",
       "      <td>0</td>\n",
       "      <td>0</td>\n",
       "      <td>0</td>\n",
       "      <td>0</td>\n",
       "      <td>0</td>\n",
       "      <td>0</td>\n",
       "    </tr>\n",
       "    <tr>\n",
       "      <th>4997</th>\n",
       "      <td>0</td>\n",
       "      <td>0</td>\n",
       "      <td>0</td>\n",
       "      <td>0</td>\n",
       "      <td>0</td>\n",
       "      <td>0</td>\n",
       "      <td>0</td>\n",
       "      <td>0</td>\n",
       "      <td>0</td>\n",
       "      <td>0</td>\n",
       "      <td>...</td>\n",
       "      <td>0</td>\n",
       "      <td>0</td>\n",
       "      <td>0</td>\n",
       "      <td>0</td>\n",
       "      <td>0</td>\n",
       "      <td>0</td>\n",
       "      <td>0</td>\n",
       "      <td>0</td>\n",
       "      <td>0</td>\n",
       "      <td>0</td>\n",
       "    </tr>\n",
       "    <tr>\n",
       "      <th>4998</th>\n",
       "      <td>0</td>\n",
       "      <td>0</td>\n",
       "      <td>0</td>\n",
       "      <td>0</td>\n",
       "      <td>0</td>\n",
       "      <td>0</td>\n",
       "      <td>0</td>\n",
       "      <td>0</td>\n",
       "      <td>0</td>\n",
       "      <td>0</td>\n",
       "      <td>...</td>\n",
       "      <td>0</td>\n",
       "      <td>0</td>\n",
       "      <td>0</td>\n",
       "      <td>0</td>\n",
       "      <td>0</td>\n",
       "      <td>0</td>\n",
       "      <td>0</td>\n",
       "      <td>0</td>\n",
       "      <td>0</td>\n",
       "      <td>0</td>\n",
       "    </tr>\n",
       "    <tr>\n",
       "      <th>4999</th>\n",
       "      <td>0</td>\n",
       "      <td>0</td>\n",
       "      <td>0</td>\n",
       "      <td>0</td>\n",
       "      <td>0</td>\n",
       "      <td>0</td>\n",
       "      <td>0</td>\n",
       "      <td>0</td>\n",
       "      <td>0</td>\n",
       "      <td>0</td>\n",
       "      <td>...</td>\n",
       "      <td>0</td>\n",
       "      <td>0</td>\n",
       "      <td>0</td>\n",
       "      <td>0</td>\n",
       "      <td>0</td>\n",
       "      <td>0</td>\n",
       "      <td>0</td>\n",
       "      <td>0</td>\n",
       "      <td>0</td>\n",
       "      <td>0</td>\n",
       "    </tr>\n",
       "  </tbody>\n",
       "</table>\n",
       "<p>5000 rows × 784 columns</p>\n",
       "</div>"
      ],
      "text/plain": [
       "      0    1    2    3    4    5    6    7    8    9    ...  774  775  776  \\\n",
       "0       0    0    0    0    0    0    0    0    0    0  ...    0    0    0   \n",
       "1       0    0    0    0    0    0    0    0    0    0  ...    0    0    0   \n",
       "2       0    0    0    0    0    0    0    0    0    0  ...    0    0    0   \n",
       "3       0    0    0    0    0    0    0    0    0    0  ...    0    0    0   \n",
       "4       0    0    0    0    0    0    0    0    0    0  ...    0    0    0   \n",
       "...   ...  ...  ...  ...  ...  ...  ...  ...  ...  ...  ...  ...  ...  ...   \n",
       "4995    0    0    0    0    0    0    0    0    0    0  ...    0    0    0   \n",
       "4996    0    0    0    0    0    0    0    0    0    0  ...    0    0    0   \n",
       "4997    0    0    0    0    0    0    0    0    0    0  ...    0    0    0   \n",
       "4998    0    0    0    0    0    0    0    0    0    0  ...    0    0    0   \n",
       "4999    0    0    0    0    0    0    0    0    0    0  ...    0    0    0   \n",
       "\n",
       "      777  778  779  780  781  782  783  \n",
       "0       0    0    0    0    0    0    0  \n",
       "1       0    0    0    0    0    0    0  \n",
       "2       0    0    0    0    0    0    0  \n",
       "3       0    0    0    0    0    0    0  \n",
       "4       0    0    0    0    0    0    0  \n",
       "...   ...  ...  ...  ...  ...  ...  ...  \n",
       "4995    0    0    0    0    0    0    0  \n",
       "4996    0    0    0    0    0    0    0  \n",
       "4997    0    0    0    0    0    0    0  \n",
       "4998    0    0    0    0    0    0    0  \n",
       "4999    0    0    0    0    0    0    0  \n",
       "\n",
       "[5000 rows x 784 columns]"
      ]
     },
     "execution_count": 181,
     "metadata": {},
     "output_type": "execute_result"
    }
   ],
   "source": [
    "X_train"
   ]
  },
  {
   "cell_type": "code",
   "execution_count": 182,
   "metadata": {},
   "outputs": [
    {
     "data": {
      "text/html": [
       "<div>\n",
       "<style scoped>\n",
       "    .dataframe tbody tr th:only-of-type {\n",
       "        vertical-align: middle;\n",
       "    }\n",
       "\n",
       "    .dataframe tbody tr th {\n",
       "        vertical-align: top;\n",
       "    }\n",
       "\n",
       "    .dataframe thead th {\n",
       "        text-align: right;\n",
       "    }\n",
       "</style>\n",
       "<table border=\"1\" class=\"dataframe\">\n",
       "  <thead>\n",
       "    <tr style=\"text-align: right;\">\n",
       "      <th></th>\n",
       "      <th>0</th>\n",
       "    </tr>\n",
       "  </thead>\n",
       "  <tbody>\n",
       "    <tr>\n",
       "      <th>0</th>\n",
       "      <td>4</td>\n",
       "    </tr>\n",
       "    <tr>\n",
       "      <th>1</th>\n",
       "      <td>1</td>\n",
       "    </tr>\n",
       "    <tr>\n",
       "      <th>2</th>\n",
       "      <td>0</td>\n",
       "    </tr>\n",
       "    <tr>\n",
       "      <th>3</th>\n",
       "      <td>7</td>\n",
       "    </tr>\n",
       "    <tr>\n",
       "      <th>4</th>\n",
       "      <td>8</td>\n",
       "    </tr>\n",
       "    <tr>\n",
       "      <th>...</th>\n",
       "      <td>...</td>\n",
       "    </tr>\n",
       "    <tr>\n",
       "      <th>4995</th>\n",
       "      <td>8</td>\n",
       "    </tr>\n",
       "    <tr>\n",
       "      <th>4996</th>\n",
       "      <td>6</td>\n",
       "    </tr>\n",
       "    <tr>\n",
       "      <th>4997</th>\n",
       "      <td>3</td>\n",
       "    </tr>\n",
       "    <tr>\n",
       "      <th>4998</th>\n",
       "      <td>5</td>\n",
       "    </tr>\n",
       "    <tr>\n",
       "      <th>4999</th>\n",
       "      <td>0</td>\n",
       "    </tr>\n",
       "  </tbody>\n",
       "</table>\n",
       "<p>5000 rows × 1 columns</p>\n",
       "</div>"
      ],
      "text/plain": [
       "      0\n",
       "0     4\n",
       "1     1\n",
       "2     0\n",
       "3     7\n",
       "4     8\n",
       "...  ..\n",
       "4995  8\n",
       "4996  6\n",
       "4997  3\n",
       "4998  5\n",
       "4999  0\n",
       "\n",
       "[5000 rows x 1 columns]"
      ]
     },
     "execution_count": 182,
     "metadata": {},
     "output_type": "execute_result"
    }
   ],
   "source": [
    "y_train"
   ]
  },
  {
   "cell_type": "markdown",
   "metadata": {},
   "source": [
    "Scaling the data"
   ]
  },
  {
   "cell_type": "code",
   "execution_count": 183,
   "metadata": {},
   "outputs": [],
   "source": [
    "X_train = X_train.to_numpy().T / 255\n",
    "y_train = y_train.to_numpy().T[0]\n",
    "\n",
    "X_test = X_test.to_numpy().T / 255\n",
    "y_test = y_test.to_numpy().T[0]"
   ]
  },
  {
   "cell_type": "code",
   "execution_count": 184,
   "metadata": {},
   "outputs": [
    {
     "data": {
      "text/plain": [
       "array([[0., 0., 0., ..., 0., 0., 0.],\n",
       "       [0., 0., 0., ..., 0., 0., 0.],\n",
       "       [0., 0., 0., ..., 0., 0., 0.],\n",
       "       ...,\n",
       "       [0., 0., 0., ..., 0., 0., 0.],\n",
       "       [0., 0., 0., ..., 0., 0., 0.],\n",
       "       [0., 0., 0., ..., 0., 0., 0.]])"
      ]
     },
     "execution_count": 184,
     "metadata": {},
     "output_type": "execute_result"
    }
   ],
   "source": [
    "X_train"
   ]
  },
  {
   "cell_type": "code",
   "execution_count": 185,
   "metadata": {},
   "outputs": [
    {
     "data": {
      "text/plain": [
       "array([4, 1, 0, ..., 3, 5, 0], dtype=int64)"
      ]
     },
     "execution_count": 185,
     "metadata": {},
     "output_type": "execute_result"
    }
   ],
   "source": [
    "y_train"
   ]
  },
  {
   "cell_type": "markdown",
   "metadata": {},
   "source": [
    "# Main Convolutional Neural Network Code #"
   ]
  },
  {
   "cell_type": "code",
   "execution_count": 186,
   "metadata": {},
   "outputs": [],
   "source": [
    "def init_params():\n",
    "    W1 = 0.1 * np.random.randn(10, 784)\n",
    "    b1 = np.zeros((10, 1))\n",
    "\n",
    "    W2 = 0.1 * np.random.randn(10, 10)\n",
    "    b2 = np.zeros((10, 1))\n",
    "\n",
    "    return W1, b1, W2, b2\n",
    "\n",
    "def ReLU(Z):\n",
    "    return np.maximum(0, Z)\n",
    "\n",
    "def deriv_ReLU(Z):\n",
    "    return Z > 0\n",
    "\n",
    "def SoftMax(Z):\n",
    "    exp = np.exp(Z - np.max(Z))\n",
    "    return exp / np.sum(exp, axis=0)\n",
    "\n",
    "def forward_prop(W1, b1, W2, b2, X):\n",
    "    Z1 = W1.dot(X) + b1\n",
    "    A1 = ReLU(Z1)\n",
    "\n",
    "    Z2 = W2.dot(A1) + b2\n",
    "    A2 = SoftMax(Z2)\n",
    "\n",
    "    return Z1, A1, Z2, A2\n",
    "\n",
    "def one_hot(y):\n",
    "    one_hotY = np.zeros((y.size, y.max() + 1))\n",
    "    one_hotY[np.arange(y.size), y] = 1\n",
    "    one_hotY = one_hotY.T\n",
    "    \n",
    "    return one_hotY\n",
    "\n",
    "def back_prop(Z1, A1, Z2, A2, W2, X, y):\n",
    "    m = y.size\n",
    "    one_hotY = one_hot(y)\n",
    "\n",
    "    dZ2 = A2 - one_hotY\n",
    "    dW2 = (1 / m) * (dZ2.dot(A1.T))\n",
    "    db2 = (1 / m) * (np.sum(dZ2))\n",
    "\n",
    "    dZ1 = W2.T.dot(dZ2) * deriv_ReLU(Z1)\n",
    "    dW1 = (1 / m) * (dZ1.dot(X.T))\n",
    "    db1 = (1 / m) * (np.sum(dZ1))\n",
    "\n",
    "    return dW1, db1, dW2, db2\n",
    "\n",
    "def update_params(W1, b1, W2, b2, dW1, db1, dW2, db2, alpha):\n",
    "    W1 = W1 - (alpha * dW1)\n",
    "    b1 = b1 - (alpha * db1)\n",
    "\n",
    "    W2 = W2 - (alpha * dW2)\n",
    "    b2 = b2 - (alpha * db2)\n",
    "\n",
    "    return W1, b1, W2, b2"
   ]
  },
  {
   "cell_type": "code",
   "execution_count": 187,
   "metadata": {},
   "outputs": [],
   "source": [
    "def get_predictions(A2):\n",
    "    return np.argmax(A2, 0)\n",
    "\n",
    "def get_accuracy(predictions, y):\n",
    "    print(predictions, y)\n",
    "    return sum(predictions == y) / y.size\n",
    "\n",
    "def gradient_descent(X, y, iterations, alpha):\n",
    "    W1, b1, W2, b2 = init_params()\n",
    "\n",
    "    for i in range(iterations):\n",
    "        Z1, A1, Z2, A2 = forward_prop(W1, b1, W2, b2, X)\n",
    "        dW1, db1, dW2, db2 = back_prop(Z1, A1, Z2, A2, W2, X, y)\n",
    "        W1, b1, W2, b2 = update_params(W1, b1, W2, b2, dW1, db1, dW2, db2, alpha)\n",
    "\n",
    "        if(i % 50 == 0):\n",
    "            print(f'Iteration: {i}')\n",
    "            print(f'Accuracy: {get_accuracy(get_predictions(A2), y)}')\n",
    "\n",
    "    return W1, b1, W2, b2"
   ]
  },
  {
   "cell_type": "code",
   "execution_count": 188,
   "metadata": {},
   "outputs": [
    {
     "name": "stdout",
     "output_type": "stream",
     "text": [
      "Iteration: 0\n",
      "[4 3 7 ... 8 0 7] [4 1 0 ... 3 5 0]\n",
      "Accuracy: 0.0576\n",
      "Iteration: 50\n",
      "[9 1 0 ... 3 4 0] [4 1 0 ... 3 5 0]\n",
      "Accuracy: 0.5116\n",
      "Iteration: 100\n",
      "[9 1 0 ... 3 9 0] [4 1 0 ... 3 5 0]\n",
      "Accuracy: 0.7324\n",
      "Iteration: 150\n",
      "[9 1 0 ... 3 4 0] [4 1 0 ... 3 5 0]\n",
      "Accuracy: 0.7898\n",
      "Iteration: 200\n",
      "[9 1 0 ... 3 5 0] [4 1 0 ... 3 5 0]\n",
      "Accuracy: 0.8226\n",
      "Iteration: 250\n",
      "[4 1 0 ... 3 5 0] [4 1 0 ... 3 5 0]\n",
      "Accuracy: 0.8442\n",
      "Iteration: 300\n",
      "[4 1 0 ... 3 5 0] [4 1 0 ... 3 5 0]\n",
      "Accuracy: 0.8604\n",
      "Iteration: 350\n",
      "[4 1 0 ... 3 5 0] [4 1 0 ... 3 5 0]\n",
      "Accuracy: 0.8702\n",
      "Iteration: 400\n",
      "[4 1 0 ... 3 5 0] [4 1 0 ... 3 5 0]\n",
      "Accuracy: 0.8806\n",
      "Iteration: 450\n",
      "[4 1 0 ... 3 5 0] [4 1 0 ... 3 5 0]\n",
      "Accuracy: 0.8894\n",
      "Iteration: 500\n",
      "[4 1 0 ... 3 5 0] [4 1 0 ... 3 5 0]\n",
      "Accuracy: 0.8922\n",
      "Iteration: 550\n",
      "[4 1 0 ... 3 5 0] [4 1 0 ... 3 5 0]\n",
      "Accuracy: 0.8988\n",
      "Iteration: 600\n",
      "[4 1 0 ... 3 5 0] [4 1 0 ... 3 5 0]\n",
      "Accuracy: 0.902\n",
      "Iteration: 650\n",
      "[4 1 0 ... 3 5 0] [4 1 0 ... 3 5 0]\n",
      "Accuracy: 0.9068\n",
      "Iteration: 700\n",
      "[4 1 0 ... 3 5 0] [4 1 0 ... 3 5 0]\n",
      "Accuracy: 0.9092\n",
      "Iteration: 750\n",
      "[4 1 0 ... 3 5 0] [4 1 0 ... 3 5 0]\n",
      "Accuracy: 0.9116\n",
      "Iteration: 800\n",
      "[4 1 0 ... 3 5 0] [4 1 0 ... 3 5 0]\n",
      "Accuracy: 0.9138\n",
      "Iteration: 850\n",
      "[4 1 0 ... 3 5 0] [4 1 0 ... 3 5 0]\n",
      "Accuracy: 0.9166\n",
      "Iteration: 900\n",
      "[4 1 0 ... 3 5 0] [4 1 0 ... 3 5 0]\n",
      "Accuracy: 0.9188\n",
      "Iteration: 950\n",
      "[4 1 0 ... 3 5 0] [4 1 0 ... 3 5 0]\n",
      "Accuracy: 0.9212\n"
     ]
    }
   ],
   "source": [
    "W1, b1, W2, b2 = gradient_descent(X_train, y_train, 1000, 0.1)"
   ]
  },
  {
   "cell_type": "code",
   "execution_count": 189,
   "metadata": {},
   "outputs": [],
   "source": [
    "def make_prediction(X, W1, b1, W2, b2):\n",
    "    _, _, _, A2 = forward_prop(W1, b1, W2, b2, X)\n",
    "    predictions = get_predictions(A2)\n",
    "\n",
    "    return predictions\n",
    "\n",
    "def test_prediction(index, dataX, datay, W1, b1, W2, b2):\n",
    "    if(index == None):\n",
    "        index = np.arange(len(dataX))\n",
    "\n",
    "    current_image = dataX[:, index, None]\n",
    "\n",
    "    if(type(index) == np.ndarray):\n",
    "        prediction = make_prediction(dataX, W1, b1, W2, b2)\n",
    "\n",
    "        return prediction\n",
    "    else:\n",
    "        prediction = make_prediction(dataX[:, index, None], W1, b1, W2, b2)\n",
    "\n",
    "        label = datay[index]\n",
    "        print(f'Prediction: {prediction}')\n",
    "        print(f'Label: {label}')\n",
    "\n",
    "    if(type(index) != np.ndarray):\n",
    "        current_image = current_image.reshape((28, 28)) * 255\n",
    "        \n",
    "        plt.gray()\n",
    "        plt.imshow(current_image, interpolation='nearest')\n",
    "        plt.show()"
   ]
  },
  {
   "cell_type": "markdown",
   "metadata": {},
   "source": [
    "Testing the Model"
   ]
  },
  {
   "cell_type": "code",
   "execution_count": 190,
   "metadata": {},
   "outputs": [
    {
     "name": "stdout",
     "output_type": "stream",
     "text": [
      "Prediction: [6]\n",
      "Label: 6\n"
     ]
    },
    {
     "data": {
      "image/png": "[encoded data removed]",
      "text/plain": [
       "<Figure size 432x288 with 1 Axes>"
      ]
     },
     "metadata": {
      "needs_background": "light"
     },
     "output_type": "display_data"
    },
    {
     "name": "stdout",
     "output_type": "stream",
     "text": [
      "Prediction: [6]\n",
      "Label: 6\n"
     ]
    },
    {
     "data": {
      "image/png": "[encoded data removed]",
      "text/plain": [
       "<Figure size 432x288 with 1 Axes>"
      ]
     },
     "metadata": {
      "needs_background": "light"
     },
     "output_type": "display_data"
    },
    {
     "name": "stdout",
     "output_type": "stream",
     "text": [
      "Prediction: [7]\n",
      "Label: 7\n"
     ]
    },
    {
     "data": {
      "image/png": "[encoded data removed]",
      "text/plain": [
       "<Figure size 432x288 with 1 Axes>"
      ]
     },
     "metadata": {
      "needs_background": "light"
     },
     "output_type": "display_data"
    },
    {
     "name": "stdout",
     "output_type": "stream",
     "text": [
      "Prediction: [4]\n",
      "Label: 4\n"
     ]
    },
    {
     "data": {
      "image/png": "[encoded data removed]",
      "text/plain": [
       "<Figure size 432x288 with 1 Axes>"
      ]
     },
     "metadata": {
      "needs_background": "light"
     },
     "output_type": "display_data"
    },
    {
     "name": "stdout",
     "output_type": "stream",
     "text": [
      "Prediction: [0]\n",
      "Label: 9\n"
     ]
    },
    {
     "data": {
      "image/png": "[encoded data removed]",
      "text/plain": [
       "<Figure size 432x288 with 1 Axes>"
      ]
     },
     "metadata": {
      "needs_background": "light"
     },
     "output_type": "display_data"
    }
   ],
   "source": [
    "test_prediction(26, X_test, y_test, W1, b1, W2, b2)\n",
    "test_prediction(27, X_test, y_test, W1, b1, W2, b2)\n",
    "test_prediction(28, X_test, y_test, W1, b1, W2, b2)\n",
    "test_prediction(29, X_test, y_test, W1, b1, W2, b2)\n",
    "test_prediction(30, X_test, y_test, W1, b1, W2, b2)"
   ]
  },
  {
   "cell_type": "markdown",
   "metadata": {},
   "source": [
    "Testing on the rest of the Test Data"
   ]
  },
  {
   "cell_type": "code",
   "execution_count": 191,
   "metadata": {},
   "outputs": [
    {
     "name": "stdout",
     "output_type": "stream",
     "text": [
      "[2 0 4 8 7 6 0 6 3 1 8 0 7 9 8 4 5 3 4 0 6 6 3 0 2 3 6 6 7 4 0 3 8 9 5 4 2\n",
      " 5 5 8 5 2 9 2 4 2 9 0 5 1 0 7 9 9 9 6 5 8 8 6 9 0 5 4 2 6 8 1 0 6 9 5 5 4\n",
      " 1 6 7 5 2 9 0 6 4 4 3 8 7 8 5 0 9 0 1 1 9 4 5 9 1 6 6 0 7 7 3 4 8 8 1 8 0\n",
      " 2 9 1 0 3 9 7 0 4 9 6 8 3 3 5 4 3 2 8 4 0 3 2 3 3 1 1 2 4 8 2 2 6 8 6 1 3\n",
      " 0 6 3 7 2 3 4 4 6 7 0 8 2 8 6 0 9 7 3 2 9 0 2 3 2 8 7 0 1 7 8 5 1 2 3 1 9\n",
      " 8 7 9 0 8 3 9 3 9 7 4 9 3 1 2 2 6 0 7 6 9 3 9 7 4 2 0 1 0 4 9 9 1 9 2 2 5\n",
      " 5 6 0 0 0 7 7 4 2 5 1 7 7 8 2 5 9 6 6 8 0 1 2 1 7 7 7 3 0 3 4 8 3 6 3 8 2\n",
      " 0 7 5 7 2 0 8 5 8 6 7 1 7 1 0 1 8 6 5 1 2 3 1 9 0 9 5 2 1 0 0 6 1 4 1 7 1\n",
      " 2 4 4 8 9 1 0 8 5 8 5 8 9 9 1 8 0 1 3 9 7 1 8 4 6 7 6 6 2 1 2 4 7 7 7 2 0\n",
      " 7 2 8 9 1 7 2 9 5 0 0 4 2 7 5 3 5 8 5 3 6 6 0 8 9 2 8 2 2 6 3 2 2 1 8 1 7\n",
      " 6 4 7 2 2 6 3 2 9 6 6 3 7 6 6 4 9 6 8 5 1 6 9 4 7 1 1 6 8 0 6 1 4 9 9 6 7\n",
      " 7 6 8 9 5 4 7 0 6 3 8 0 9 0 1 1 2 7 6 2 2 6 2 6 1 3 3 3 6 6 4 1 1 3 0 7 6\n",
      " 0 5 0 8 8 3 1 1 9 4 7 9 3 6 5 9 3 2 6 9 6 2 2 4 0 0 1 2 5 5 1 8 7 8 1 9 7\n",
      " 8 5 5 7 1 0 5 4 4 2 3 9 0 6 6 6 1 9 1 2 4 4 7 3 3 7 0 7 2 4 6 1 9 4 4 2 7\n",
      " 3 5 7 0 0 1 4 3 6 4 4 7 0 8 6 2 4 4 9 6 0 1 0 4 0 6 4 3 8 3 8 5 6 3 2 0 0\n",
      " 8 5 0 0 1 2 5 9 6 9 7 7 1 8 8 7 7 7 5 8 2 1 6 9 2 2 0 6 5 8 2 2 7 9 6 2 0\n",
      " 4 2 1 1 6 5 2 9 2 1 6 8 7 4 1 7 1 9 4 2 2 3 0 8 1 3 2 2 2 4 5 7 5 2 2 2 8\n",
      " 9 5 9 8 4 9 6 1 4 8 5 8 8 0 5 9 0 6 0 2 2 8 1 5 1 9 1 9 6 3 9 1 1 8 4 3 5\n",
      " 4 0 5 5 4 7 0 2 1 8 1 9 8 4 0 0 1 1 6 6 4 4 9 1 6 3 5 0 4 4 7 2 9 6 1 5 4\n",
      " 5 2 1 1 4 0 5 9 3 1 3 9 1 5 6 9 9 1 9 2 7 3 3 9 2 0 5 4 4 1 5 1 9 3 3 3 0\n",
      " 3 3 3 4 3 0 3 5 5 1 0 0 8 0 7 1 1 0 5 7 2 2 9 2 0 6 9 1 4 6 8 4 4 1 3 0 4\n",
      " 7 3 0 0 1 0 7 7 1 8 3 1 0 2 0 5 3 7 1 1 0 3 4 7 1 3 9 6 6 2 5 8 9 3 5 3 7\n",
      " 4 3 2 3 8 0 0 0 8 2 6 9 0 8 7 2 6 2 7 1 1 7 6 5 6 1 5 9 0 5 3 1 6 0 1 2 5\n",
      " 3 7 7 1 2 2 1 5 5 4 5 2 6 4 6 0 0 4 4 0 7 9 7 4 6 7 1 2 1 8 8 1 7 6 3 2 3\n",
      " 5 1 0 5 1 4 4 5 1 1 7 2 4 7 7 0 1 7 3 3 3 6 4 5 4 7 2 3 8 4 1 1 0 8 5 8 7\n",
      " 8 9 1 7 6 7 0 5 7 0 3 9 4 5 9 1 2 0 1 1 0 3 1 8 2 9 3 6 2 9 2 4 7 2 3 8 3\n",
      " 3 3 3 9 3 8 6 4 7 8 7 4 7 8 3 2 0 6 1 7 2 3 2 1 3 0 7 0 1 1 0 8 8 8 1 6 7\n",
      " 1] [2 0 4 8 7 6 0 6 3 1 8 0 7 9 8 4 5 3 4 0 6 6 3 0 2 3 6 6 7 4 9 3 8 7 5 4 2\n",
      " 5 5 8 5 2 9 2 4 2 7 0 5 1 0 7 9 9 9 6 5 8 8 6 9 9 5 4 2 6 8 1 0 6 9 5 5 4\n",
      " 1 6 7 5 2 9 0 6 4 4 2 8 7 8 3 0 9 0 1 1 9 4 5 9 7 6 6 0 7 7 8 4 8 8 1 8 0\n",
      " 2 9 1 0 3 9 7 0 4 9 6 8 9 3 5 4 3 2 2 4 0 3 2 3 5 1 1 2 4 8 2 2 6 8 6 1 7\n",
      " 0 6 1 7 7 3 4 4 6 9 0 8 2 8 6 0 9 7 8 2 9 0 2 3 2 8 7 0 1 7 8 5 1 2 3 1 9\n",
      " 8 7 9 0 8 3 9 3 9 7 4 9 3 1 2 2 6 0 7 6 9 5 9 7 4 2 0 1 0 4 9 9 1 9 2 2 6\n",
      " 5 6 0 0 2 7 7 4 7 5 1 7 7 8 2 5 9 6 6 8 0 1 2 1 7 7 7 3 0 3 4 8 3 6 3 8 2\n",
      " 0 7 5 7 2 0 8 5 8 6 7 1 7 1 0 1 8 6 5 1 5 3 1 9 0 8 5 7 1 0 0 6 7 4 1 7 1\n",
      " 2 4 4 8 9 1 0 8 5 3 5 8 9 9 1 8 0 1 3 9 7 1 8 4 6 7 6 6 2 1 2 4 9 7 7 2 5\n",
      " 7 2 8 9 1 7 2 9 5 0 0 4 2 7 5 3 5 8 5 8 6 6 0 8 9 2 5 2 2 6 3 2 3 1 8 1 7\n",
      " 6 4 2 2 2 6 3 2 7 6 6 3 7 2 6 4 9 6 8 5 1 6 5 4 7 1 1 6 8 0 6 1 4 9 7 6 7\n",
      " 7 6 8 9 5 4 7 0 6 3 8 0 9 0 1 1 2 7 6 7 2 6 2 6 1 3 3 3 4 6 4 1 1 3 0 7 6\n",
      " 0 5 0 8 8 3 1 1 9 4 0 8 3 6 6 9 3 2 6 9 6 2 2 4 0 0 1 2 5 5 1 8 7 2 1 9 7\n",
      " 8 8 5 7 6 0 5 4 4 2 3 9 0 6 6 6 1 9 1 2 5 4 7 3 3 7 0 7 2 2 6 1 9 4 4 2 7\n",
      " 3 5 7 0 0 1 4 3 6 4 4 7 0 8 6 6 4 4 9 6 0 1 0 4 0 6 4 5 8 7 8 5 6 3 2 0 0\n",
      " 8 8 0 0 1 2 5 9 6 9 7 7 1 8 8 7 7 7 5 8 2 1 6 9 2 2 0 6 5 5 3 2 7 8 6 2 2\n",
      " 4 2 1 1 6 5 2 9 2 1 6 8 7 4 1 7 1 9 4 2 2 3 0 8 1 3 2 2 2 4 5 7 5 2 2 3 8\n",
      " 9 5 9 8 9 9 6 1 4 8 5 8 8 0 5 8 0 6 0 2 2 8 1 5 1 9 1 9 6 3 2 1 1 5 4 3 6\n",
      " 4 0 5 5 4 7 0 2 1 8 1 9 8 5 0 0 1 1 6 6 4 4 9 1 6 3 6 0 4 4 7 2 9 6 1 5 4\n",
      " 5 2 1 1 4 0 3 9 3 1 5 9 1 5 6 9 9 8 9 2 7 3 2 9 2 0 5 4 4 1 5 1 9 5 3 3 0\n",
      " 3 3 3 4 3 0 3 6 5 1 0 0 8 0 9 1 1 0 5 7 2 2 9 2 0 2 9 1 8 6 8 4 4 1 3 0 4\n",
      " 7 3 0 0 1 0 7 7 1 8 5 1 0 2 0 5 3 7 1 1 0 8 4 7 1 5 9 6 8 2 5 8 9 3 5 3 7\n",
      " 4 3 7 3 2 0 0 0 8 2 6 9 0 8 7 2 6 2 7 1 1 0 6 5 6 1 8 4 0 5 3 1 6 0 1 2 9\n",
      " 3 7 7 1 2 2 1 5 5 4 5 2 6 4 6 0 0 4 4 0 8 9 7 9 6 7 1 2 1 8 8 1 7 6 3 2 5\n",
      " 5 1 0 8 1 4 4 5 1 1 7 2 6 2 7 0 1 7 3 3 5 6 4 5 4 7 2 3 5 4 1 1 0 8 5 8 3\n",
      " 8 9 1 7 6 7 0 5 7 0 3 9 4 5 9 1 8 0 1 1 0 3 1 8 2 9 3 6 2 9 2 5 7 2 3 8 3\n",
      " 3 3 3 9 3 8 6 4 7 8 7 4 7 8 3 2 5 6 1 8 2 3 2 1 3 0 7 9 1 1 0 8 3 8 1 6 7\n",
      " 1]\n"
     ]
    },
    {
     "data": {
      "text/plain": [
       "0.905"
      ]
     },
     "execution_count": 191,
     "metadata": {},
     "output_type": "execute_result"
    }
   ],
   "source": [
    "test_predictions = test_prediction(None, X_test, y_test, W1, b1, W2, b2)\n",
    "get_accuracy(test_predictions, y_test)"
   ]
  }
 ],
 "metadata": {
  "kernelspec": {
   "display_name": "Python 3.7.8 64-bit",
   "language": "python",
   "name": "python3"
  },
  "language_info": {
   "codemirror_mode": {
    "name": "ipython",
    "version": 3
   },
   "file_extension": ".py",
   "mimetype": "text/x-python",
   "name": "python",
   "nbconvert_exporter": "python",
   "pygments_lexer": "ipython3",
   "version": "3.7.8"
  },
  "orig_nbformat": 4,
  "vscode": {
   "interpreter": {
    "hash": "0a54084e6b208ee8d1ce3989ffc20924477a5f55f5a43e22e699a6741623861e"
   }
  }
 },
 "nbformat": 4,
 "nbformat_minor": 2
}
